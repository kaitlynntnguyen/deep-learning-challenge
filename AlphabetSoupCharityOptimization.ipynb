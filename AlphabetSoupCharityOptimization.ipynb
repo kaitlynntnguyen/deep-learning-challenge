{
 "cells": [
  {
   "cell_type": "markdown",
   "metadata": {},
   "source": [
    "## Preprocessing"
   ]
  },
  {
   "cell_type": "code",
   "execution_count": 69,
   "metadata": {},
   "outputs": [
    {
     "data": {
      "text/html": [
       "<div>\n",
       "<style scoped>\n",
       "    .dataframe tbody tr th:only-of-type {\n",
       "        vertical-align: middle;\n",
       "    }\n",
       "\n",
       "    .dataframe tbody tr th {\n",
       "        vertical-align: top;\n",
       "    }\n",
       "\n",
       "    .dataframe thead th {\n",
       "        text-align: right;\n",
       "    }\n",
       "</style>\n",
       "<table border=\"1\" class=\"dataframe\">\n",
       "  <thead>\n",
       "    <tr style=\"text-align: right;\">\n",
       "      <th></th>\n",
       "      <th>EIN</th>\n",
       "      <th>NAME</th>\n",
       "      <th>APPLICATION_TYPE</th>\n",
       "      <th>AFFILIATION</th>\n",
       "      <th>CLASSIFICATION</th>\n",
       "      <th>USE_CASE</th>\n",
       "      <th>ORGANIZATION</th>\n",
       "      <th>STATUS</th>\n",
       "      <th>INCOME_AMT</th>\n",
       "      <th>SPECIAL_CONSIDERATIONS</th>\n",
       "      <th>ASK_AMT</th>\n",
       "      <th>IS_SUCCESSFUL</th>\n",
       "    </tr>\n",
       "  </thead>\n",
       "  <tbody>\n",
       "    <tr>\n",
       "      <th>0</th>\n",
       "      <td>10520599</td>\n",
       "      <td>BLUE KNIGHTS MOTORCYCLE CLUB</td>\n",
       "      <td>T10</td>\n",
       "      <td>Independent</td>\n",
       "      <td>C1000</td>\n",
       "      <td>ProductDev</td>\n",
       "      <td>Association</td>\n",
       "      <td>1</td>\n",
       "      <td>0</td>\n",
       "      <td>N</td>\n",
       "      <td>5000</td>\n",
       "      <td>1</td>\n",
       "    </tr>\n",
       "    <tr>\n",
       "      <th>1</th>\n",
       "      <td>10531628</td>\n",
       "      <td>AMERICAN CHESAPEAKE CLUB CHARITABLE TR</td>\n",
       "      <td>T3</td>\n",
       "      <td>Independent</td>\n",
       "      <td>C2000</td>\n",
       "      <td>Preservation</td>\n",
       "      <td>Co-operative</td>\n",
       "      <td>1</td>\n",
       "      <td>1-9999</td>\n",
       "      <td>N</td>\n",
       "      <td>108590</td>\n",
       "      <td>1</td>\n",
       "    </tr>\n",
       "    <tr>\n",
       "      <th>2</th>\n",
       "      <td>10547893</td>\n",
       "      <td>ST CLOUD PROFESSIONAL FIREFIGHTERS</td>\n",
       "      <td>T5</td>\n",
       "      <td>CompanySponsored</td>\n",
       "      <td>C3000</td>\n",
       "      <td>ProductDev</td>\n",
       "      <td>Association</td>\n",
       "      <td>1</td>\n",
       "      <td>0</td>\n",
       "      <td>N</td>\n",
       "      <td>5000</td>\n",
       "      <td>0</td>\n",
       "    </tr>\n",
       "    <tr>\n",
       "      <th>3</th>\n",
       "      <td>10553066</td>\n",
       "      <td>SOUTHSIDE ATHLETIC ASSOCIATION</td>\n",
       "      <td>T3</td>\n",
       "      <td>CompanySponsored</td>\n",
       "      <td>C2000</td>\n",
       "      <td>Preservation</td>\n",
       "      <td>Trust</td>\n",
       "      <td>1</td>\n",
       "      <td>10000-24999</td>\n",
       "      <td>N</td>\n",
       "      <td>6692</td>\n",
       "      <td>1</td>\n",
       "    </tr>\n",
       "    <tr>\n",
       "      <th>4</th>\n",
       "      <td>10556103</td>\n",
       "      <td>GENETIC RESEARCH INSTITUTE OF THE DESERT</td>\n",
       "      <td>T3</td>\n",
       "      <td>Independent</td>\n",
       "      <td>C1000</td>\n",
       "      <td>Heathcare</td>\n",
       "      <td>Trust</td>\n",
       "      <td>1</td>\n",
       "      <td>100000-499999</td>\n",
       "      <td>N</td>\n",
       "      <td>142590</td>\n",
       "      <td>1</td>\n",
       "    </tr>\n",
       "  </tbody>\n",
       "</table>\n",
       "</div>"
      ],
      "text/plain": [
       "        EIN                                      NAME APPLICATION_TYPE  \\\n",
       "0  10520599              BLUE KNIGHTS MOTORCYCLE CLUB              T10   \n",
       "1  10531628    AMERICAN CHESAPEAKE CLUB CHARITABLE TR               T3   \n",
       "2  10547893        ST CLOUD PROFESSIONAL FIREFIGHTERS               T5   \n",
       "3  10553066            SOUTHSIDE ATHLETIC ASSOCIATION               T3   \n",
       "4  10556103  GENETIC RESEARCH INSTITUTE OF THE DESERT               T3   \n",
       "\n",
       "        AFFILIATION CLASSIFICATION      USE_CASE  ORGANIZATION  STATUS  \\\n",
       "0       Independent          C1000    ProductDev   Association       1   \n",
       "1       Independent          C2000  Preservation  Co-operative       1   \n",
       "2  CompanySponsored          C3000    ProductDev   Association       1   \n",
       "3  CompanySponsored          C2000  Preservation         Trust       1   \n",
       "4       Independent          C1000     Heathcare         Trust       1   \n",
       "\n",
       "      INCOME_AMT SPECIAL_CONSIDERATIONS  ASK_AMT  IS_SUCCESSFUL  \n",
       "0              0                      N     5000              1  \n",
       "1         1-9999                      N   108590              1  \n",
       "2              0                      N     5000              0  \n",
       "3    10000-24999                      N     6692              1  \n",
       "4  100000-499999                      N   142590              1  "
      ]
     },
     "execution_count": 69,
     "metadata": {},
     "output_type": "execute_result"
    }
   ],
   "source": [
    "# Import our dependencies\n",
    "from sklearn.model_selection import train_test_split\n",
    "from sklearn.preprocessing import StandardScaler\n",
    "import pandas as pd\n",
    "import tensorflow as tf\n",
    "\n",
    "#  Import and read the charity_data.csv.\n",
    "import pandas as pd \n",
    "application_df = pd.read_csv(\"https://static.bc-edx.com/data/dl-1-2/m21/lms/starter/charity_data.csv\")\n",
    "application_df.head()"
   ]
  },
  {
   "cell_type": "code",
   "execution_count": 70,
   "metadata": {},
   "outputs": [
    {
     "data": {
      "text/html": [
       "<div>\n",
       "<style scoped>\n",
       "    .dataframe tbody tr th:only-of-type {\n",
       "        vertical-align: middle;\n",
       "    }\n",
       "\n",
       "    .dataframe tbody tr th {\n",
       "        vertical-align: top;\n",
       "    }\n",
       "\n",
       "    .dataframe thead th {\n",
       "        text-align: right;\n",
       "    }\n",
       "</style>\n",
       "<table border=\"1\" class=\"dataframe\">\n",
       "  <thead>\n",
       "    <tr style=\"text-align: right;\">\n",
       "      <th></th>\n",
       "      <th>NAME</th>\n",
       "      <th>APPLICATION_TYPE</th>\n",
       "      <th>AFFILIATION</th>\n",
       "      <th>CLASSIFICATION</th>\n",
       "      <th>USE_CASE</th>\n",
       "      <th>ORGANIZATION</th>\n",
       "      <th>STATUS</th>\n",
       "      <th>INCOME_AMT</th>\n",
       "      <th>SPECIAL_CONSIDERATIONS</th>\n",
       "      <th>ASK_AMT</th>\n",
       "      <th>IS_SUCCESSFUL</th>\n",
       "    </tr>\n",
       "  </thead>\n",
       "  <tbody>\n",
       "    <tr>\n",
       "      <th>0</th>\n",
       "      <td>BLUE KNIGHTS MOTORCYCLE CLUB</td>\n",
       "      <td>T10</td>\n",
       "      <td>Independent</td>\n",
       "      <td>C1000</td>\n",
       "      <td>ProductDev</td>\n",
       "      <td>Association</td>\n",
       "      <td>1</td>\n",
       "      <td>0</td>\n",
       "      <td>N</td>\n",
       "      <td>5000</td>\n",
       "      <td>1</td>\n",
       "    </tr>\n",
       "    <tr>\n",
       "      <th>1</th>\n",
       "      <td>AMERICAN CHESAPEAKE CLUB CHARITABLE TR</td>\n",
       "      <td>T3</td>\n",
       "      <td>Independent</td>\n",
       "      <td>C2000</td>\n",
       "      <td>Preservation</td>\n",
       "      <td>Co-operative</td>\n",
       "      <td>1</td>\n",
       "      <td>1-9999</td>\n",
       "      <td>N</td>\n",
       "      <td>108590</td>\n",
       "      <td>1</td>\n",
       "    </tr>\n",
       "    <tr>\n",
       "      <th>2</th>\n",
       "      <td>ST CLOUD PROFESSIONAL FIREFIGHTERS</td>\n",
       "      <td>T5</td>\n",
       "      <td>CompanySponsored</td>\n",
       "      <td>C3000</td>\n",
       "      <td>ProductDev</td>\n",
       "      <td>Association</td>\n",
       "      <td>1</td>\n",
       "      <td>0</td>\n",
       "      <td>N</td>\n",
       "      <td>5000</td>\n",
       "      <td>0</td>\n",
       "    </tr>\n",
       "    <tr>\n",
       "      <th>3</th>\n",
       "      <td>SOUTHSIDE ATHLETIC ASSOCIATION</td>\n",
       "      <td>T3</td>\n",
       "      <td>CompanySponsored</td>\n",
       "      <td>C2000</td>\n",
       "      <td>Preservation</td>\n",
       "      <td>Trust</td>\n",
       "      <td>1</td>\n",
       "      <td>10000-24999</td>\n",
       "      <td>N</td>\n",
       "      <td>6692</td>\n",
       "      <td>1</td>\n",
       "    </tr>\n",
       "    <tr>\n",
       "      <th>4</th>\n",
       "      <td>GENETIC RESEARCH INSTITUTE OF THE DESERT</td>\n",
       "      <td>T3</td>\n",
       "      <td>Independent</td>\n",
       "      <td>C1000</td>\n",
       "      <td>Heathcare</td>\n",
       "      <td>Trust</td>\n",
       "      <td>1</td>\n",
       "      <td>100000-499999</td>\n",
       "      <td>N</td>\n",
       "      <td>142590</td>\n",
       "      <td>1</td>\n",
       "    </tr>\n",
       "  </tbody>\n",
       "</table>\n",
       "</div>"
      ],
      "text/plain": [
       "                                       NAME APPLICATION_TYPE  \\\n",
       "0              BLUE KNIGHTS MOTORCYCLE CLUB              T10   \n",
       "1    AMERICAN CHESAPEAKE CLUB CHARITABLE TR               T3   \n",
       "2        ST CLOUD PROFESSIONAL FIREFIGHTERS               T5   \n",
       "3            SOUTHSIDE ATHLETIC ASSOCIATION               T3   \n",
       "4  GENETIC RESEARCH INSTITUTE OF THE DESERT               T3   \n",
       "\n",
       "        AFFILIATION CLASSIFICATION      USE_CASE  ORGANIZATION  STATUS  \\\n",
       "0       Independent          C1000    ProductDev   Association       1   \n",
       "1       Independent          C2000  Preservation  Co-operative       1   \n",
       "2  CompanySponsored          C3000    ProductDev   Association       1   \n",
       "3  CompanySponsored          C2000  Preservation         Trust       1   \n",
       "4       Independent          C1000     Heathcare         Trust       1   \n",
       "\n",
       "      INCOME_AMT SPECIAL_CONSIDERATIONS  ASK_AMT  IS_SUCCESSFUL  \n",
       "0              0                      N     5000              1  \n",
       "1         1-9999                      N   108590              1  \n",
       "2              0                      N     5000              0  \n",
       "3    10000-24999                      N     6692              1  \n",
       "4  100000-499999                      N   142590              1  "
      ]
     },
     "execution_count": 70,
     "metadata": {},
     "output_type": "execute_result"
    }
   ],
   "source": [
    "# Drop the non-beneficial ID columns, 'EIN'.\n",
    "application_df = application_df.drop(['EIN'], axis=1)\n",
    "application_df.head()"
   ]
  },
  {
   "cell_type": "code",
   "execution_count": 71,
   "metadata": {},
   "outputs": [
    {
     "data": {
      "text/plain": [
       "NAME                      19568\n",
       "APPLICATION_TYPE             17\n",
       "AFFILIATION                   6\n",
       "CLASSIFICATION               71\n",
       "USE_CASE                      5\n",
       "ORGANIZATION                  4\n",
       "STATUS                        2\n",
       "INCOME_AMT                    9\n",
       "SPECIAL_CONSIDERATIONS        2\n",
       "ASK_AMT                    8747\n",
       "IS_SUCCESSFUL                 2\n",
       "dtype: int64"
      ]
     },
     "execution_count": 71,
     "metadata": {},
     "output_type": "execute_result"
    }
   ],
   "source": [
    "# Determine the number of unique values in each column.\n",
    "application_df.nunique()"
   ]
  },
  {
   "cell_type": "code",
   "execution_count": 72,
   "metadata": {},
   "outputs": [
    {
     "data": {
      "text/plain": [
       "PARENT BOOSTER USA INC                                                  1260\n",
       "TOPS CLUB INC                                                            765\n",
       "UNITED STATES BOWLING CONGRESS INC                                       700\n",
       "WASHINGTON STATE UNIVERSITY                                              492\n",
       "AMATEUR ATHLETIC UNION OF THE UNITED STATES INC                          408\n",
       "                                                                        ... \n",
       "ST LOUIS SLAM WOMENS FOOTBALL                                              1\n",
       "AIESEC ALUMNI IBEROAMERICA CORP                                            1\n",
       "WEALLBLEEDRED ORG INC                                                      1\n",
       "AMERICAN SOCIETY FOR STANDARDS IN MEDIUMSHIP & PSYCHICAL INVESTIGATI       1\n",
       "WATERHOUSE CHARITABLE TR                                                   1\n",
       "Name: NAME, Length: 19568, dtype: int64"
      ]
     },
     "execution_count": 72,
     "metadata": {},
     "output_type": "execute_result"
    }
   ],
   "source": [
    "# Look at NAME value counts for binning\n",
    "name_counts = application_df['NAME'].value_counts()\n",
    "name_counts"
   ]
  },
  {
   "cell_type": "code",
   "execution_count": 73,
   "metadata": {},
   "outputs": [
    {
     "data": {
      "text/plain": [
       "Other                                                                 28123\n",
       "PARENT BOOSTER USA INC                                                 1260\n",
       "TOPS CLUB INC                                                           765\n",
       "UNITED STATES BOWLING CONGRESS INC                                      700\n",
       "WASHINGTON STATE UNIVERSITY                                             492\n",
       "AMATEUR ATHLETIC UNION OF THE UNITED STATES INC                         408\n",
       "PTA TEXAS CONGRESS                                                      368\n",
       "SOROPTIMIST INTERNATIONAL OF THE AMERICAS INC                           331\n",
       "ALPHA PHI SIGMA                                                         313\n",
       "TOASTMASTERS INTERNATIONAL                                              293\n",
       "MOST WORSHIPFUL STRINGER FREE AND ACCEPTED MASONS                       287\n",
       "LITTLE LEAGUE BASEBALL INC                                              277\n",
       "INTERNATIONAL ASSOCIATION OF LIONS CLUBS                                266\n",
       "MOMS CLUB                                                               210\n",
       "INTERNATIONAL ASSOCIATION OF SHEET METAL AIR RAIL & TRANSPORTATION      206\n",
       "Name: NAME, dtype: int64"
      ]
     },
     "execution_count": 73,
     "metadata": {},
     "output_type": "execute_result"
    }
   ],
   "source": [
    "# Choose a cutoff value and create a list of names to be replaced\n",
    "names_to_replace=list(name_counts[name_counts < 200].index)\n",
    "\n",
    "# Replace in dataframe\n",
    "for name in names_to_replace:\n",
    "    application_df['NAME'] = application_df['NAME'].replace(name,\"Other\")\n",
    "\n",
    "# Check to make sure binning was successful\n",
    "application_df['NAME'].value_counts()"
   ]
  },
  {
   "cell_type": "code",
   "execution_count": 74,
   "metadata": {},
   "outputs": [
    {
     "data": {
      "text/plain": [
       "C1000    17326\n",
       "C2000     6074\n",
       "C1200     4837\n",
       "C3000     1918\n",
       "C2100     1883\n",
       "         ...  \n",
       "C4120        1\n",
       "C8210        1\n",
       "C2561        1\n",
       "C4500        1\n",
       "C2150        1\n",
       "Name: CLASSIFICATION, Length: 71, dtype: int64"
      ]
     },
     "execution_count": 74,
     "metadata": {},
     "output_type": "execute_result"
    }
   ],
   "source": [
    "# Look at CLASSIFICATION value counts for binning\n",
    "class_counts=application_df['CLASSIFICATION'].value_counts()\n",
    "class_counts"
   ]
  },
  {
   "cell_type": "code",
   "execution_count": 75,
   "metadata": {},
   "outputs": [
    {
     "data": {
      "text/plain": [
       "C1000    17326\n",
       "C2000     6074\n",
       "C1200     4837\n",
       "C3000     1918\n",
       "C2100     1883\n",
       "C7000      777\n",
       "C1700      287\n",
       "C4000      194\n",
       "C5000      116\n",
       "C1270      114\n",
       "C2700      104\n",
       "C2800       95\n",
       "C7100       75\n",
       "C1300       58\n",
       "C1280       50\n",
       "C1230       36\n",
       "C1400       34\n",
       "C7200       32\n",
       "C2300       32\n",
       "C1240       30\n",
       "C8000       20\n",
       "C7120       18\n",
       "C1500       16\n",
       "C1800       15\n",
       "C6000       15\n",
       "C1250       14\n",
       "C8200       11\n",
       "C1238       10\n",
       "C1278       10\n",
       "C1235        9\n",
       "C1237        9\n",
       "C7210        7\n",
       "C2400        6\n",
       "C1720        6\n",
       "C4100        6\n",
       "C1257        5\n",
       "C1600        5\n",
       "C1260        3\n",
       "C2710        3\n",
       "C0           3\n",
       "C3200        2\n",
       "C1234        2\n",
       "C1246        2\n",
       "C1267        2\n",
       "C1256        2\n",
       "Name: CLASSIFICATION, dtype: int64"
      ]
     },
     "execution_count": 75,
     "metadata": {},
     "output_type": "execute_result"
    }
   ],
   "source": [
    "# You may find it helpful to look at CLASSIFICATION value counts >1\n",
    "class_counts_over_1=class_counts[class_counts > 1]\n",
    "class_counts_over_1"
   ]
  },
  {
   "cell_type": "code",
   "execution_count": 76,
   "metadata": {},
   "outputs": [
    {
     "data": {
      "text/plain": [
       "C1000    17326\n",
       "C2000     6074\n",
       "C1200     4837\n",
       "Other     2261\n",
       "C3000     1918\n",
       "C2100     1883\n",
       "Name: CLASSIFICATION, dtype: int64"
      ]
     },
     "execution_count": 76,
     "metadata": {},
     "output_type": "execute_result"
    }
   ],
   "source": [
    "# Choose a cutoff value and create a list of classifications to be replaced\n",
    "# use the variable name `classifications_to_replace`\n",
    "classifications_to_replace=list(class_counts[class_counts < 1000].index)\n",
    "\n",
    "# Replace in dataframe\n",
    "for cls in classifications_to_replace:\n",
    "    application_df['CLASSIFICATION'] = application_df['CLASSIFICATION'].replace(cls,\"Other\")\n",
    "    \n",
    "# Check to make sure binning was successful\n",
    "application_df['CLASSIFICATION'].value_counts()"
   ]
  },
  {
   "cell_type": "code",
   "execution_count": 77,
   "metadata": {},
   "outputs": [],
   "source": [
    "# Convert categorical data to numeric with `pd.get_dummies`\n",
    "numeric=pd.get_dummies(application_df)"
   ]
  },
  {
   "cell_type": "code",
   "execution_count": 78,
   "metadata": {},
   "outputs": [],
   "source": [
    "# Split our preprocessed data into our features and target arrays\n",
    "X = numeric.drop(['IS_SUCCESSFUL'], axis=1)\n",
    "y = numeric['IS_SUCCESSFUL']\n",
    "\n",
    "# Split the preprocessed data into a training and testing dataset\n",
    "X_train, X_test, y_train, y_test = train_test_split(X, y, random_state=58)"
   ]
  },
  {
   "cell_type": "code",
   "execution_count": 79,
   "metadata": {},
   "outputs": [],
   "source": [
    "# Create a StandardScaler instances\n",
    "scaler = StandardScaler()\n",
    "\n",
    "# Fit the StandardScaler\n",
    "X_scaler = scaler.fit(X_train)\n",
    "\n",
    "# Scale the data\n",
    "X_train_scaled = X_scaler.transform(X_train)\n",
    "X_test_scaled = X_scaler.transform(X_test)"
   ]
  },
  {
   "cell_type": "markdown",
   "metadata": {},
   "source": [
    "## Compile, Train and Evaluate the Model"
   ]
  },
  {
   "cell_type": "code",
   "execution_count": 80,
   "metadata": {},
   "outputs": [
    {
     "name": "stdout",
     "output_type": "stream",
     "text": [
      "Model: \"sequential_3\"\n",
      "_________________________________________________________________\n",
      " Layer (type)                Output Shape              Param #   \n",
      "=================================================================\n",
      " dense_15 (Dense)            (None, 10)                670       \n",
      "                                                                 \n",
      " dense_16 (Dense)            (None, 6)                 66        \n",
      "                                                                 \n",
      " dense_17 (Dense)            (None, 6)                 42        \n",
      "                                                                 \n",
      " dense_18 (Dense)            (None, 7)                 49        \n",
      "                                                                 \n",
      " dense_19 (Dense)            (None, 1)                 8         \n",
      "                                                                 \n",
      "=================================================================\n",
      "Total params: 835 (3.26 KB)\n",
      "Trainable params: 835 (3.26 KB)\n",
      "Non-trainable params: 0 (0.00 Byte)\n",
      "_________________________________________________________________\n"
     ]
    }
   ],
   "source": [
    "# Define the model - deep neural net, i.e., the number of input features and hidden nodes for each layer.\n",
    "number_input_features = len(X_train_scaled[0])\n",
    "hidden_nodes_layer1 = 10\n",
    "hidden_nodes_layer2 = 6\n",
    "hidden_nodes_layer3 = 6\n",
    "hidden_nodes_layer4 = 7\n",
    "\n",
    "nn_model = tf.keras.models.Sequential()\n",
    "\n",
    "# First hidden layer\n",
    "nn_model.add(tf.keras.layers.Dense(units=hidden_nodes_layer1,\n",
    "             input_dim=number_input_features, activation=\"sigmoid\"))\n",
    "\n",
    "# Second hidden layer\n",
    "nn_model.add(tf.keras.layers.Dense(\n",
    "    units=hidden_nodes_layer2, activation=\"sigmoid\"))\n",
    "\n",
    "# Third hidden layer\n",
    "nn_model.add(tf.keras.layers.Dense(units=hidden_nodes_layer3,\n",
    "             input_dim=number_input_features, activation=\"tanh\"))\n",
    "\n",
    "# Fourth hidden layer\n",
    "nn_model.add(tf.keras.layers.Dense(\n",
    "    units=hidden_nodes_layer4, activation=\"relu\"))\n",
    "\n",
    "# Output layer\n",
    "nn_model.add(tf.keras.layers.Dense(units=1, activation=\"sigmoid\"))\n",
    "\n",
    "# Check the structure of the model\n",
    "nn_model.summary()"
   ]
  },
  {
   "cell_type": "code",
   "execution_count": 81,
   "metadata": {},
   "outputs": [],
   "source": [
    "# Compile the model\n",
    "nn_model.compile(loss=\"binary_crossentropy\", optimizer=\"adam\", metrics=[\"accuracy\"])"
   ]
  },
  {
   "cell_type": "code",
   "execution_count": 82,
   "metadata": {},
   "outputs": [
    {
     "name": "stdout",
     "output_type": "stream",
     "text": [
      "Epoch 1/50\n",
      "804/804 [==============================] - 3s 2ms/step - loss: 0.5923 - accuracy: 0.6943\n",
      "Epoch 2/50\n",
      "804/804 [==============================] - 2s 2ms/step - loss: 0.5322 - accuracy: 0.7328\n",
      "Epoch 3/50\n",
      "804/804 [==============================] - 1s 2ms/step - loss: 0.5277 - accuracy: 0.7360\n",
      "Epoch 4/50\n",
      "804/804 [==============================] - 2s 2ms/step - loss: 0.5248 - accuracy: 0.7380\n",
      "Epoch 5/50\n",
      "804/804 [==============================] - 2s 2ms/step - loss: 0.5218 - accuracy: 0.7402\n",
      "Epoch 6/50\n",
      "804/804 [==============================] - 2s 2ms/step - loss: 0.5195 - accuracy: 0.7431\n",
      "Epoch 7/50\n",
      "804/804 [==============================] - 1s 2ms/step - loss: 0.5167 - accuracy: 0.7447\n",
      "Epoch 8/50\n",
      "804/804 [==============================] - 1s 2ms/step - loss: 0.5145 - accuracy: 0.7463\n",
      "Epoch 9/50\n",
      "804/804 [==============================] - 1s 1ms/step - loss: 0.5126 - accuracy: 0.7474\n",
      "Epoch 10/50\n",
      "804/804 [==============================] - 1s 2ms/step - loss: 0.5112 - accuracy: 0.7482\n",
      "Epoch 11/50\n",
      "804/804 [==============================] - 2s 2ms/step - loss: 0.5099 - accuracy: 0.7505\n",
      "Epoch 12/50\n",
      "804/804 [==============================] - 2s 2ms/step - loss: 0.5086 - accuracy: 0.7509\n",
      "Epoch 13/50\n",
      "804/804 [==============================] - 2s 2ms/step - loss: 0.5075 - accuracy: 0.7528\n",
      "Epoch 14/50\n",
      "804/804 [==============================] - 1s 2ms/step - loss: 0.5075 - accuracy: 0.7530\n",
      "Epoch 15/50\n",
      "804/804 [==============================] - 2s 2ms/step - loss: 0.5065 - accuracy: 0.7519\n",
      "Epoch 16/50\n",
      "804/804 [==============================] - 2s 2ms/step - loss: 0.5058 - accuracy: 0.7519\n",
      "Epoch 17/50\n",
      "804/804 [==============================] - 2s 2ms/step - loss: 0.5055 - accuracy: 0.7530\n",
      "Epoch 18/50\n",
      "804/804 [==============================] - 2s 2ms/step - loss: 0.5050 - accuracy: 0.7520\n",
      "Epoch 19/50\n",
      "804/804 [==============================] - 2s 2ms/step - loss: 0.5046 - accuracy: 0.7526\n",
      "Epoch 20/50\n",
      "804/804 [==============================] - 1s 2ms/step - loss: 0.5041 - accuracy: 0.7533\n",
      "Epoch 21/50\n",
      "804/804 [==============================] - 2s 2ms/step - loss: 0.5040 - accuracy: 0.7534\n",
      "Epoch 22/50\n",
      "804/804 [==============================] - 2s 2ms/step - loss: 0.5033 - accuracy: 0.7533\n",
      "Epoch 23/50\n",
      "804/804 [==============================] - 1s 2ms/step - loss: 0.5034 - accuracy: 0.7531\n",
      "Epoch 24/50\n",
      "804/804 [==============================] - 2s 2ms/step - loss: 0.5030 - accuracy: 0.7531\n",
      "Epoch 25/50\n",
      "804/804 [==============================] - 1s 2ms/step - loss: 0.5027 - accuracy: 0.7541\n",
      "Epoch 26/50\n",
      "804/804 [==============================] - 2s 2ms/step - loss: 0.5024 - accuracy: 0.7535\n",
      "Epoch 27/50\n",
      "804/804 [==============================] - 2s 2ms/step - loss: 0.5026 - accuracy: 0.7536\n",
      "Epoch 28/50\n",
      "804/804 [==============================] - 1s 2ms/step - loss: 0.5018 - accuracy: 0.7529\n",
      "Epoch 29/50\n",
      "804/804 [==============================] - 2s 2ms/step - loss: 0.5019 - accuracy: 0.7540\n",
      "Epoch 30/50\n",
      "804/804 [==============================] - 2s 2ms/step - loss: 0.5020 - accuracy: 0.7533\n",
      "Epoch 31/50\n",
      "804/804 [==============================] - 1s 2ms/step - loss: 0.5018 - accuracy: 0.7537\n",
      "Epoch 32/50\n",
      "804/804 [==============================] - 1s 2ms/step - loss: 0.5013 - accuracy: 0.7523\n",
      "Epoch 33/50\n",
      "804/804 [==============================] - 1s 2ms/step - loss: 0.5009 - accuracy: 0.7545\n",
      "Epoch 34/50\n",
      "804/804 [==============================] - 1s 2ms/step - loss: 0.5008 - accuracy: 0.7539\n",
      "Epoch 35/50\n",
      "804/804 [==============================] - 1s 2ms/step - loss: 0.5011 - accuracy: 0.7542\n",
      "Epoch 36/50\n",
      "804/804 [==============================] - 2s 2ms/step - loss: 0.5003 - accuracy: 0.7549\n",
      "Epoch 37/50\n",
      "804/804 [==============================] - 2s 2ms/step - loss: 0.5004 - accuracy: 0.7536\n",
      "Epoch 38/50\n",
      "804/804 [==============================] - 2s 2ms/step - loss: 0.5003 - accuracy: 0.7549\n",
      "Epoch 39/50\n",
      "804/804 [==============================] - 2s 2ms/step - loss: 0.5000 - accuracy: 0.7551\n",
      "Epoch 40/50\n",
      "804/804 [==============================] - 2s 2ms/step - loss: 0.5001 - accuracy: 0.7550\n",
      "Epoch 41/50\n",
      "804/804 [==============================] - 2s 2ms/step - loss: 0.5000 - accuracy: 0.7555\n",
      "Epoch 42/50\n",
      "804/804 [==============================] - 1s 2ms/step - loss: 0.4998 - accuracy: 0.7540\n",
      "Epoch 43/50\n",
      "804/804 [==============================] - 2s 2ms/step - loss: 0.5001 - accuracy: 0.7540\n",
      "Epoch 44/50\n",
      "804/804 [==============================] - 2s 2ms/step - loss: 0.4996 - accuracy: 0.7540\n",
      "Epoch 45/50\n",
      "804/804 [==============================] - 2s 2ms/step - loss: 0.4997 - accuracy: 0.7540\n",
      "Epoch 46/50\n",
      "804/804 [==============================] - 2s 2ms/step - loss: 0.4993 - accuracy: 0.7563\n",
      "Epoch 47/50\n",
      "804/804 [==============================] - 2s 2ms/step - loss: 0.4994 - accuracy: 0.7551\n",
      "Epoch 48/50\n",
      "804/804 [==============================] - 2s 2ms/step - loss: 0.4991 - accuracy: 0.7548\n",
      "Epoch 49/50\n",
      "804/804 [==============================] - 2s 2ms/step - loss: 0.4992 - accuracy: 0.7545\n",
      "Epoch 50/50\n",
      "804/804 [==============================] - 2s 2ms/step - loss: 0.4991 - accuracy: 0.7554\n"
     ]
    }
   ],
   "source": [
    "# Train the model\n",
    "fit_model = nn_model.fit(X_train_scaled, y_train, epochs=50)"
   ]
  },
  {
   "cell_type": "code",
   "execution_count": 83,
   "metadata": {},
   "outputs": [
    {
     "name": "stdout",
     "output_type": "stream",
     "text": [
      "268/268 - 1s - loss: 0.5059 - accuracy: 0.7509 - 544ms/epoch - 2ms/step\n",
      "Loss: 0.505896270275116, Accuracy: 0.7509037852287292\n"
     ]
    }
   ],
   "source": [
    "# Evaluate the model using the test data\n",
    "nn_model.compile(loss=\"binary_crossentropy\", optimizer=\"adam\", metrics=[\"accuracy\"])\n",
    "model_loss, model_accuracy = nn_model.evaluate(X_test_scaled,y_test,verbose=2)\n",
    "print(f\"Loss: {model_loss}, Accuracy: {model_accuracy}\")"
   ]
  },
  {
   "cell_type": "code",
   "execution_count": 84,
   "metadata": {},
   "outputs": [
    {
     "name": "stderr",
     "output_type": "stream",
     "text": [
      "/Users/kaitnguyen/Library/Python/3.9/lib/python/site-packages/keras/src/engine/training.py:3000: UserWarning: You are saving your model as an HDF5 file via `model.save()`. This file format is considered legacy. We recommend using instead the native Keras format, e.g. `model.save('my_model.keras')`.\n",
      "  saving_api.save_model(\n"
     ]
    }
   ],
   "source": [
    "# Export our model to HDF5 file\n",
    "nn_model.save(\"AlphabetSoupCharity.h5\")"
   ]
  }
 ],
 "metadata": {
  "kernelspec": {
   "display_name": "Python 3",
   "language": "python",
   "name": "python3"
  },
  "language_info": {
   "codemirror_mode": {
    "name": "ipython",
    "version": 3
   },
   "file_extension": ".py",
   "mimetype": "text/x-python",
   "name": "python",
   "nbconvert_exporter": "python",
   "pygments_lexer": "ipython3",
   "version": "3.9.6"
  },
  "vscode": {
   "interpreter": {
    "hash": "31f2aee4e71d21fbe5cf8b01ff0e069b9275f58929596ceb00d14d90e3e16cd6"
   }
  }
 },
 "nbformat": 4,
 "nbformat_minor": 4
}
